{
 "cells": [
  {
   "cell_type": "code",
   "execution_count": null,
   "id": "1c1d2072",
   "metadata": {
    "scrolled": true
   },
   "outputs": [],
   "source": [
    "import numpy as np\n",
    "import pandas as pd\n",
    "from pandas import DataFrame as DF\n",
    "from sklearn.impute import SimpleImputer                  \n",
    "from sklearn.model_selection import train_test_split"
   ]
  },
  {
   "cell_type": "code",
   "execution_count": null,
   "id": "fb30216b",
   "metadata": {},
   "outputs": [],
   "source": [
    "df_train=pd.read_csv(r'C:\\Users\\86153\\Desktop\\house-prices-advanced-regression-techniques\\train.csv')\n",
    "df_test=pd.read_csv(r'C:\\Users\\86153\\Desktop\\house-prices-advanced-regression-techniques\\test.csv')\n",
    "pd.set_option('display.max_columns', None)\n",
    "pd.set_option('display.max_rows', None)"
   ]
  },
  {
   "cell_type": "code",
   "execution_count": null,
   "id": "910dd01d",
   "metadata": {},
   "outputs": [],
   "source": [
    "#首先id列对预测房价没有意义，直接删除\n",
    "df_train.drop(\"Id\", axis = 1, inplace = True)\n",
    "df_test.drop(\"Id\", axis = 1, inplace = True)"
   ]
  },
  {
   "cell_type": "markdown",
   "id": "967bd7dc",
   "metadata": {},
   "source": [
    "探索数据分布"
   ]
  },
  {
   "cell_type": "code",
   "execution_count": null,
   "id": "e35f4c9b",
   "metadata": {
    "scrolled": true
   },
   "outputs": [],
   "source": [
    "#在这里有点作弊行为，为了score高一点直接把训练集和测试机合并后进行处理\n",
    "all_data=pd.concat([df_test,df_train])\n",
    "all_data=all_data.reset_index(drop=True)\n",
    "all_data.describe([.01,.50,.99]).T                #简单看一下数据分布情况，有没有不该出现的数字或者离群值"
   ]
  },
  {
   "cell_type": "code",
   "execution_count": null,
   "metadata": {},
   "outputs": [],
   "source": [
    "all_data = all_data.drop([\"Utilities\"], axis=1)"
   ]
  },
  {
   "cell_type": "markdown",
   "id": "66362380",
   "metadata": {},
   "source": [
    "一、数据预处理"
   ]
  },
  {
   "cell_type": "markdown",
   "id": "f117d8b8",
   "metadata": {},
   "source": [
    "可以看到数据存在缺失值很多，一些数据严重偏态\n",
    "对于缺失值问题在这个数据中有三种解决方法 第一类是允许存在na值的比如说泳池相关属性\n",
    "第二类是类似于BsmtUnfSF这种特征 缺失值可以填充为0\n",
    "第三类是缺失值表示默认值的情况比如特征Functional\n",
    "第四类是Functional这种缺失值数量还不算太多可以用众数来填充（不用平均数的原因是因为要填补文本数据）"
   ]
  },
  {
   "cell_type": "code",
   "execution_count": null,
   "id": "bf422dc6",
   "metadata": {},
   "outputs": [],
   "source": [
    "fill_na = all_data.loc[:,(\"PoolQC\" , \"MiscFeature\", \"Alley\", \"Fence\", \"FireplaceQu\", \"GarageType\", \"GarageFinish\", \"GarageQual\", \"GarageCond\",\"BsmtQual\", \"BsmtCond\", \"BsmtExposure\", \"BsmtFinType1\", \"BsmtFinType2\", \"MasVnrType\",\"Exterior2nd\")]\n",
    "for col in fill_na:\n",
    "    all_data[col].fillna(\"None\",inplace=True)#先填充第一类缺失的情况 \n",
    "del fill_na,col"
   ]
  },
  {
   "cell_type": "code",
   "execution_count": null,
   "id": "67172649",
   "metadata": {
    "scrolled": true
   },
   "outputs": [],
   "source": [
    "all_data.loc[:,[\"BsmtUnfSF\",\"TotalBsmtSF\",\"BsmtFinSF2\",\"BsmtFinSF1\",\"BsmtFullBath\",\"BsmtHalfBath\", \"MasVnrArea\",\"GarageCars\",\"GarageArea\",\"GarageYrBlt\"]]=SimpleImputer(strategy=\"constant\",fill_value=0,copy=False).fit_transform(all_data.loc[:,[\"BsmtUnfSF\",\"TotalBsmtSF\",\"BsmtFinSF2\",\"BsmtFinSF1\",\"BsmtFullBath\",\"BsmtHalfBath\", \"MasVnrArea\",\"GarageCars\",\"GarageArea\",\"GarageYrBlt\"]])\n",
    "#第二类情况缺失值填充"
   ]
  },
  {
   "cell_type": "code",
   "execution_count": null,
   "id": "528286e9",
   "metadata": {},
   "outputs": [],
   "source": [
    "all_data[\"Functional\"] = all_data[\"Functional\"].fillna(\"Typ\")#第三类填充"
   ]
  },
  {
   "cell_type": "code",
   "execution_count": null,
   "id": "84af8141",
   "metadata": {},
   "outputs": [],
   "source": [
    "other_cols = [\"MSZoning\", \"Electrical\", \"KitchenQual\", \"Exterior1st\", \"MSSubClass\", \"SaleType\",\"LotFrontage\"]\n",
    "for col in other_cols:\n",
    "    all_data[col].fillna(all_data[col].mode()[0], inplace=True) #第四类字符类型的列用众数填充\n",
    "del other_cols,col"
   ]
  },
  {
   "cell_type": "markdown",
   "id": "b0a2722d",
   "metadata": {
    "scrolled": false
   },
   "source": [
    "all_data.isna().sum()[all_data.isna().sum()>0]\n",
    "SalePrice    1459\n",
    "dtype: int64\n",
    "所有缺失值填补完毕"
   ]
  },
  {
   "cell_type": "code",
   "execution_count": null,
   "id": "d8ba6605",
   "metadata": {},
   "outputs": [],
   "source": [
    "all_data.loc[all_data['YrSold'].astype(int) - all_data['YearRemodAdd'].astype(int)<0,'YearRemodAdd']=0"
   ]
  },
  {
   "cell_type": "code",
   "execution_count": null,
   "id": "00b1911d",
   "metadata": {},
   "outputs": [],
   "source": [
    "#特征创造\n",
    "all_data['TotalHouseArea'] = all_data['TotalBsmtSF'] + all_data['1stFlrSF'] + all_data['2ndFlrSF']#居住面积\n",
    "all_data['YearsSinceRemodel'] = all_data['YrSold'].astype(int) - all_data['YearRemodAdd'].astype(int)#房屋翻新日期和出售日期的差\n",
    "all_data['HighQualArea'] = all_data['1stFlrSF'] + all_data['2ndFlrSF'] + all_data['TotalBsmtSF'] + all_data['BsmtUnfSF'] - all_data['LowQualFinSF']#房屋总高质量面积\n",
    "all_data['YearsSinceGarageYrBlt'] = all_data['YrSold'].astype(int) - all_data['GarageYrBlt'].astype(int)#房房屋建造日期和出售日期的差"
   ]
  },
  {
   "cell_type": "code",
   "execution_count": null,
   "id": "10ddfeef",
   "metadata": {},
   "outputs": [],
   "source": [
    "outer_1=all_data[all_data['YearsSinceRemodel']<0].index\n",
    "outer_2=all_data[all_data['YearsSinceGarageYrBlt']<0].index\n",
    "outer_3=all_data[all_data['GarageYrBlt']==2207].index\n",
    "outer_1.append([outer_2,outer_3])\n",
    "for l in outer_1:\n",
    "    all_data=all_data.drop(labels=l)\n",
    "all_data=all_data.reset_index(drop=True)\n",
    "#删除掉出售时间比房间重修或者车库重修时间还要大的错误值\n",
    "del outer_1,outer_2,outer_3"
   ]
  },
  {
   "cell_type": "code",
   "execution_count": null,
   "id": "a1f55579",
   "metadata": {},
   "outputs": [],
   "source": [
    "#数值类离散型变量 数据不用处理\n",
    "num_=['OverallQual','OverallCond','BsmtFullBath','BsmtHalfBath','FullBath','HalfBath','BedroomAbvGr','KitchenAbvGr','TotRmsAbvGrd','Fireplaces','GarageCars']"
   ]
  },
  {
   "cell_type": "code",
   "execution_count": null,
   "id": "7581bb62",
   "metadata": {},
   "outputs": [],
   "source": [
    "#带有顺序的离散型文本变量 手动标签编码\n",
    "cate_num=['LandContour','ExterQual','ExterCond','BsmtQual','BsmtCond'\n",
    ",'BsmtExposure','BsmtFinType1','BsmtFinType2','HeatingQC','KitchenQual','FireplaceQu'\n",
    ",'GarageFinish','GarageQual','GarageCond','PoolQC','Fence','LandSlope']"
   ]
  },
  {
   "cell_type": "code",
   "execution_count": null,
   "id": "4efe1cf3",
   "metadata": {},
   "outputs": [],
   "source": [
    "#文本的离散型变量 数据独热编码\n",
    "cate_=['MSZoning','Street','Alley','LotShape','LotConfig'\n",
    ",'Neighborhood','Condition1','Condition2','BldgType','HouseStyle','RoofStyle'\n",
    ",'RoofMatl','Exterior1st','Exterior2nd','MasVnrType','Foundation','Heating','CentralAir'\n",
    ",'Electrical','Functional','GarageType','PavedDrive','MiscFeature','SaleType','SaleCondition','MSSubClass']"
   ]
  },
  {
   "cell_type": "code",
   "execution_count": null,
   "id": "6896348d",
   "metadata": {},
   "outputs": [],
   "source": [
    "all_data['MSSubClass']=all_data[['MSSubClass']].astype(object)#出售类别应该是离散型变量"
   ]
  },
  {
   "cell_type": "code",
   "execution_count": null,
   "id": "db7854ce",
   "metadata": {},
   "outputs": [],
   "source": [
    "#连续性变量的日期数据 数据进行标签编码\n",
    "str_cols = [ \"YrSold\", 'MoSold',\"YearBuilt\", \"YearRemodAdd\", 'GarageYrBlt']\n",
    "#\"YearBuilt\", \"YearRemodAdd\", 'GarageYrBlt',"
   ]
  },
  {
   "cell_type": "code",
   "execution_count": null,
   "id": "fa62becb",
   "metadata": {
    "scrolled": true
   },
   "outputs": [],
   "source": [
    "all_data.loc[:,cate_num]=all_data.loc[:,cate_num].replace(['Ex','Gd','TA','Fa','Po','None','Av','Mn','No','Lvl','Bnk','HLS','Low','Gtl','Mod','Sev'],[5,4,3,2,1,0,3,2,1,4,3,2,1,3,2,1])\n",
    "all_data.loc[:,cate_num]=all_data.loc[:,cate_num].replace(['GLQ','ALQ','BLQ','Rec','LwQ','Unf','Fin','RFn','GdPrv','MnPrv','GdWo','MnWw']\n",
    "                          ,[6,5,4,3,2,1,3,2,4,3,2,1])\n",
    "#手动标签编码"
   ]
  },
  {
   "cell_type": "code",
   "execution_count": null,
   "id": "14033180",
   "metadata": {},
   "outputs": [],
   "source": [
    "\n",
    "onehotresult=pd.get_dummies(all_data[cate_])\n",
    "onehotcolu=list(onehotresult.columns)\n",
    "for i in all_data[cate_]:\n",
    "    all_data=all_data.drop(i,axis=1)\n",
    "all_data=pd.concat([all_data,onehotresult],axis=1)\n",
    "all_data.info()\n",
    "#对离散变量进行独热编码\n",
    "del i,onehotresult,onehotcolu"
   ]
  },
  {
   "cell_type": "code",
   "execution_count": null,
   "id": "72ea1307",
   "metadata": {},
   "outputs": [],
   "source": [
    "SalePrice=['SalePrice']\n",
    "non_cate=all_data.drop(SalePrice,axis=1)\n",
    "a=non_cate.skew().abs().tolist()\n",
    "skew=DF(np.asarray(a),non_cate.columns)\n",
    "skew[skew[0]>1]\n",
    "\n",
    "to_log=list(skew[skew[0]>1].index)\n",
    "for col in to_log:                             \n",
    "    all_data[col] = np.log1p(all_data[col])\n",
    "#对特征进行平滑处理"
   ]
  },
  {
   "cell_type": "code",
   "execution_count": null,
   "id": "bb92ddd3",
   "metadata": {},
   "outputs": [],
   "source": [
    "inf_=np.isinf(all_data)\n",
    "all_data[inf_]=0\n",
    "\n",
    "nan=all_data.drop('SalePrice',axis=1).isna()\n",
    "all_data[nan]=0\n",
    "#消除数据处理过程中产生的inf和na"
   ]
  },
  {
   "cell_type": "code",
   "execution_count": null,
   "id": "e42a34fe",
   "metadata": {},
   "outputs": [],
   "source": [
    "del num_,cate_,cate_num,str_cols,#SalePrice,to_log,non_cate,skew,col,inf_,a"
   ]
  },
  {
   "cell_type": "code",
   "execution_count": null,
   "id": "2ff91602",
   "metadata": {},
   "outputs": [],
   "source": [
    "y=all_data[all_data['SalePrice'].isna()].drop('SalePrice',axis=1)\n",
    "x=all_data[all_data['SalePrice'].notna()]\n",
    "x.reset_index(drop=True)\n",
    "y.reset_index(drop=True)\n",
    "#区分出来训练数据和测试数据"
   ]
  },
  {
   "cell_type": "code",
   "execution_count": null,
   "id": "306d7127",
   "metadata": {},
   "outputs": [],
   "source": [
    "target=x['SalePrice']\n",
    "feature=x.drop('SalePrice',axis=1)"
   ]
  },
  {
   "cell_type": "markdown",
   "id": "216c9ef7",
   "metadata": {},
   "source": [
    "pca=PCA(215)\n",
    "pca_line=pca.fit(feature,target)\n",
    "#plt.plot(range(1,255),np.cumsum(pca_line.explained_variance_ratio_))\n",
    "feature=DF(pca_line.transform(feature).tolist())\n",
    "y=DF(pca_line.transform(y).tolist())\n",
    "#实测发现pca对分数有负面影响"
   ]
  },
  {
   "cell_type": "code",
   "execution_count": null,
   "id": "306857f1",
   "metadata": {},
   "outputs": [],
   "source": [
    "xtrain,xtest,ytrain,ytest=train_test_split(feature,target,test_size=0.3)"
   ]
  }
 ],
 "metadata": {
  "interpreter": {
   "hash": "b09ec625f77bf4fd762565a912b97636504ad6ec901eb2d0f4cf5a7de23e1ee5"
  },
  "kernelspec": {
   "display_name": "Python 3.9.7 ('base')",
   "language": "python",
   "name": "python3"
  },
  "language_info": {
   "codemirror_mode": {
    "name": "ipython",
    "version": 3
   },
   "file_extension": ".py",
   "mimetype": "text/x-python",
   "name": "python",
   "nbconvert_exporter": "python",
   "pygments_lexer": "ipython3",
   "version": "3.9.7"
  }
 },
 "nbformat": 4,
 "nbformat_minor": 5
}
