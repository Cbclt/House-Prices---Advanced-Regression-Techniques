{
 "cells": [
  {
   "cell_type": "code",
   "execution_count": null,
   "id": "1c1d2072",
   "metadata": {
    "scrolled": true
   },
   "outputs": [],
   "source": [
    "import numpy as np\n",
    "import pandas as pd\n",
    "from pandas import DataFrame as DF\n",
    "from sklearn.ensemble import RandomForestRegressor as RF\n",
    "from sklearn.linear_model import Ridge\n",
    "from sklearn.linear_model import Lasso\n",
    "from sklearn.model_selection import GridSearchCV\n",
    "from sklearn.svm import SVR\n",
    "from lightgbm import LGBMRegressor "
   ]
  },
  {
   "cell_type": "code",
   "execution_count": null,
   "metadata": {},
   "outputs": [],
   "source": [
    "xtrain=pd.read_csv((r'C:\\Users\\86153\\Desktop\\house-prices-advanced-regression-techniques\\xtrain.csv'),index_col=[0])\n",
    "xtest=pd.read_csv((r'C:\\Users\\86153\\Desktop\\house-prices-advanced-regression-techniques\\xtest.csv'),index_col=[0])\n",
    "ytrain=pd.read_csv((r'C:\\Users\\86153\\Desktop\\house-prices-advanced-regression-techniques\\ytrain.csv'),index_col=[0])\n",
    "ytest=pd.read_csv((r'C:\\Users\\86153\\Desktop\\house-prices-advanced-regression-techniques\\ytest.csv'),index_col=[0])\n",
    "y=pd.read_csv((r'C:\\Users\\86153\\Desktop\\house-prices-advanced-regression-techniques\\y.csv'),index_col=[0])\n",
    "feature=pd.read_csv((r'C:\\Users\\86153\\Desktop\\house-prices-advanced-regression-techniques\\feature.csv'),index_col=[0])\n",
    "target=pd.read_csv((r'C:\\Users\\86153\\Desktop\\house-prices-advanced-regression-techniques\\target.csv'),index_col=[0])"
   ]
  },
  {
   "cell_type": "code",
   "execution_count": null,
   "metadata": {},
   "outputs": [],
   "source": [
    "ytest=ytest['SalePrice']\n",
    "ytrain=ytrain['SalePrice']\n",
    "target=target['SalePrice']"
   ]
  },
  {
   "cell_type": "code",
   "execution_count": null,
   "id": "fdd1a055",
   "metadata": {},
   "outputs": [],
   "source": [
    "def rmse(predict_,true_,len_):\n",
    "    return (((np.log(predict_)- np.log(true_))**2).sum()/len_)**0.5"
   ]
  },
  {
   "cell_type": "markdown",
   "id": "43de680d",
   "metadata": {},
   "source": [
    "#开始建模"
   ]
  },
  {
   "cell_type": "code",
   "execution_count": null,
   "id": "5fea57af",
   "metadata": {},
   "outputs": [],
   "source": [
    "#随机森林\n",
    "rf=RF(n_estimators=73,random_state=66,max_depth=19,criterion='mae',min_samples_leaf=1,max_features=80)\n",
    "rf.fit(xtrain,ytrain)\n",
    "pre=rf.predict(xtest)\n",
    "print(rmse(pre,ytest,len(pre)))\n",
    "#0.1368336187504412"
   ]
  },
  {
   "cell_type": "code",
   "execution_count": null,
   "id": "50cc811a",
   "metadata": {},
   "outputs": [],
   "source": [
    "#ridge回归\n",
    "rg=Ridge(alpha=15.52631579,random_state=66,fit_intercept=False)\n",
    "rg.fit(xtrain,ytrain)\n",
    "preri=rg.predict(xtest)\n",
    "rmse(abs(preri),ytest,len(preri))\n",
    "#0.15864391482319576"
   ]
  },
  {
   "cell_type": "code",
   "execution_count": null,
   "id": "0fa30c73",
   "metadata": {},
   "outputs": [],
   "source": [
    "#lasso回归\n",
    "lasso=Lasso(alpha=97,random_state=66,max_iter=95,positive=True)\n",
    "lasso.fit(xtrain,ytrain)\n",
    "pre1=lasso.predict(xtest)\n",
    "rmse(abs(pre1),ytest,len(ytest))\n",
    "#0.15432119063694827"
   ]
  },
  {
   "cell_type": "code",
   "execution_count": null,
   "metadata": {},
   "outputs": [],
   "source": [
    "#linear核svr\n",
    "svr=SVR(kernel='linear',epsilon=20,C=655)#0.14573277859081937\n",
    "svr.fit(xtrain,ytrain)\n",
    "pre1=svr.predict(xtest)\n",
    "rmse(pre1,ytest,len(pre1))"
   ]
  },
  {
   "cell_type": "code",
   "execution_count": null,
   "metadata": {},
   "outputs": [],
   "source": [
    "#poly核svr\n",
    "svr=SVR(kernel='poly',degree=1,gamma=1.9375,coef0=89.79591837,C=311)\n",
    "svr.fit(xtrain,ytrain)\n",
    "pre1=svr.predict(xtest)\n",
    "rmse(pre1,ytest,len(pre1))\n",
    "#0.1454503415294951"
   ]
  },
  {
   "cell_type": "code",
   "execution_count": null,
   "metadata": {},
   "outputs": [],
   "source": [
    "#lgbm\n",
    "params={}\n",
    "lgbm=LGBMRegressor(boosting_type='gbdt',application='regression',n_estimators=76\n",
    "                  ,learning_rate=0.06142,max_depth=21,num_leaves=16,subsample=0.00011\n",
    "                  ,colsample_bytree=1,reg_alpha=70,reg_lambda=0,num_iterations=91,)\n",
    "gsearch = GridSearchCV(lgbm, param_grid=params, scoring='neg_mean_squared_error', cv=5,n_jobs=-1)\n",
    "gsearch.fit(xtrain,ytrain)\n",
    "print(\"Best score: %0.3f\" % gsearch.best_score_)\n",
    "print(gsearch.best_params_)\n",
    "pre=gsearch.predict(xtest)\n",
    "rmse(pre,ytest,len(pre))\n"
   ]
  },
  {
   "cell_type": "code",
   "execution_count": null,
   "metadata": {},
   "outputs": [],
   "source": [
    "#以下是最后部分"
   ]
  },
  {
   "cell_type": "code",
   "execution_count": null,
   "metadata": {},
   "outputs": [],
   "source": [
    "#先用训练集和测试集算出最佳的每个模型系数再组装一个简单的集成模型\n",
    "rf=RF(n_estimators=73,random_state=66,max_depth=19,criterion='mae',min_samples_leaf=1,max_features=80)\n",
    "rf.fit(xtrain,ytrain)\n",
    "rf_pre1=rf.predict(xtest)\n",
    "print('rf')\n",
    "\n",
    "rg=Ridge(alpha=15.52631579,random_state=66,fit_intercept=False)\n",
    "rg.fit(xtrain,ytrain)\n",
    "ridge_pre1=rg.predict(xtest)\n",
    "print('ridge')\n",
    "\n",
    "lasso=Lasso(alpha=97,random_state=66,max_iter=95,positive=True)\n",
    "lasso.fit(xtrain,ytrain)\n",
    "lasso_pre1=lasso.predict(xtest)\n",
    "print('lasso')\n",
    "\n",
    "svr=SVR(kernel='linear',epsilon=20,C=655)#0.14573277859081937#[0.1522173355008953]\n",
    "svr.fit(xtrain,ytrain)\n",
    "linearsvr_pre1=svr.predict(xtest)\n",
    "print('linearsvr')\n",
    "\n",
    "polysvr=SVR(kernel='poly',degree=1,gamma=1.9375,coef0=89.79591837,C=311)#0.14673301057055446\n",
    "polysvr.fit(xtrain,ytrain)\n",
    "polysvr_pre1=polysvr.predict(xtest)\n",
    "print('polysvr')\n",
    "\n",
    "lgbm=LGBMRegressor(nthread=-1,boosting_type='gbdt',application='regression',max_depth=8,bagging_freq=1,reg_alpha=7,reg_lambda=2,n_estimators=46,learning_rate=0.11421052631578943)\n",
    "lgbm.fit(xtrain,ytrain)\n",
    "lgbm_pre1=lgbm.predict(xtest)\n",
    "print('lgbm')"
   ]
  },
  {
   "cell_type": "code",
   "execution_count": null,
   "metadata": {},
   "outputs": [],
   "source": [
    "score=[]\n",
    "for i1 in range(0,10,1):\n",
    "    a=i1*0.1\n",
    "    a=round(a,2)\n",
    "    for i2 in range(0,10-i1):\n",
    "        b=i2*0.1\n",
    "        b=round(b,2)\n",
    "        for i3 in range(0,10-i1-i2):\n",
    "            c=i3*0.1\n",
    "            c=round(c,2)\n",
    "            for i4 in range(0,10-i1-i2-i3):\n",
    "                d=i4*0.1\n",
    "                d=round(d,2)\n",
    "                for i5 in range(0,10-i1-i2-i3-i4):\n",
    "                    e=i5/10\n",
    "                    e=round(e,2)\n",
    "                    f=(10-i1-i2-i3-i4-i5)*0.1\n",
    "                    f=round(f,2)\n",
    "                    result=rf_pre1*a+lgbm_pre1*b+ridge_pre1*c+polysvr_pre1*d+linearsvr_pre1*e+lasso_pre1*f\n",
    "                    score.append(rmse(result,ytest,len(result)))\n",
    "                    print(rmse(result,ytest,len(result)),a,b,c,d,e,f)\n",
    "                        \n",
    "\n",
    "min(score)"
   ]
  },
  {
   "cell_type": "code",
   "execution_count": null,
   "metadata": {},
   "outputs": [],
   "source": [
    "#得到系数后先训练基模型，再用上面得到的每个模型系数进行组合\n",
    "rf=RF(n_estimators=73,random_state=66,max_depth=19,criterion='mae',min_samples_leaf=1,max_features=80)\n",
    "rf.fit(feature,target)\n",
    "rf_pre=rf.predict(y)\n",
    "print('rf')\n",
    "\n",
    "rg=Ridge(alpha=15.52631579,random_state=66,fit_intercept=False)\n",
    "rg.fit(feature,target)\n",
    "ridge_pre=rg.predict(y)\n",
    "print('ridge')\n",
    "\n",
    "lasso=Lasso(alpha=97,random_state=66,max_iter=95,positive=True)\n",
    "lasso.fit(feature,target)\n",
    "lasso_pre=lasso.predict(y)\n",
    "print('lasso')\n",
    "\n",
    "svr=SVR(kernel='linear',epsilon=20,C=655)#0.14573277859081937#[0.1522173355008953]\n",
    "svr.fit(feature,target)\n",
    "linearsvr_pre=svr.predict(y)\n",
    "print('linearsvr')\n",
    "\n",
    "svr=SVR(kernel='poly',degree=1,gamma=1.9375,coef0=89.79591837,C=311)#0.14673301057055446\n",
    "svr.fit(feature,target)\n",
    "polysvr_pre=svr.predict(y)\n",
    "print('polysvr')\n",
    "lgbm=LGBMRegressor(nthread=-1,boosting_type='gbdt',application='regression'\n",
    ",max_depth=8,bagging_freq=1,reg_alpha=7,reg_lambda=2,n_estimators=46,learning_rate=0.11421052631578943)\n",
    "lgbm.fit(feature,target)\n",
    "lgbm_pre=lgbm.predict(y)\n",
    "print('lgbm')"
   ]
  },
  {
   "cell_type": "code",
   "execution_count": null,
   "metadata": {},
   "outputs": [],
   "source": [
    "result=rf_pre*0.4+lgbm_pre*0.3+polysvr_pre*0.1+lasso_pre*0.2"
   ]
  },
  {
   "cell_type": "code",
   "execution_count": null,
   "metadata": {},
   "outputs": [],
   "source": [
    "a=DF({'id':range(1461,2920),'SalePrice':result},columns=['id','SalePrice'])\n",
    "a.set_index(['id'],inplace=True)\n",
    "a.to_csv(r'C:\\Users\\86153\\Desktop\\house-prices-advanced-regression-techniques\\jieguo_mix.csv')"
   ]
  }
 ],
 "metadata": {
  "interpreter": {
   "hash": "f7401c3a6738d15d752740af9785731698b5ffd5adfb1a735c0bc94da9902075"
  },
  "kernelspec": {
   "display_name": "Python 3.10.1 64-bit",
   "language": "python",
   "name": "python3"
  },
  "language_info": {
   "codemirror_mode": {
    "name": "ipython",
    "version": 3
   },
   "file_extension": ".py",
   "mimetype": "text/x-python",
   "name": "python",
   "nbconvert_exporter": "python",
   "pygments_lexer": "ipython3",
   "version": "3.10.1"
  },
  "orig_nbformat": 4
 },
 "nbformat": 4,
 "nbformat_minor": 2
}
